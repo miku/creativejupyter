{
 "cells": [
  {
   "cell_type": "markdown",
   "metadata": {},
   "source": [
    "# Hello nbconvert\n",
    "\n",
    "Hello World.\n",
    "\n",
    "Changes are saved in the markdown file as well.\n",
    "\n",
    "Images are fine, too.\n",
    "\n",
    "![](logo.jpg)\n",
    "\n",
    "Lorem ipsum dolor sit amet, consectetur adipiscing elit, sed do eiusmod tempor incididunt ut labore et dolore magna aliqua. Dignissim sodales ut eu sem integer vitae justo eget. Non quam lacus suspendisse faucibus. Integer quis auctor elit sed vulputate mi. Diam volutpat commodo sed egestas egestas fringilla phasellus faucibus scelerisque. Aliquet bibendum enim facilisis gravida neque. Ultrices eros in cursus turpis massa. Velit euismod in pellentesque massa. Duis tristique sollicitudin nibh sit amet commodo. Sagittis vitae et leo duis ut diam quam nulla.\n",
    "\n",
    "Nulla pellentesque dignissim enim sit amet venenatis urna. Vulputate enim nulla aliquet porttitor lacus luctus accumsan tortor posuere. Eu facilisis sed odio morbi quis commodo odio. Posuere morbi leo urna molestie. Facilisi nullam vehicula ipsum a arcu. Enim ut sem viverra aliquet eget. Massa massa ultricies mi quis. Interdum posuere lorem ipsum dolor sit amet consectetur. Sit amet risus nullam eget. Eget lorem dolor sed viverra ipsum. Leo vel fringilla est ullamcorper eget nulla facilisi etiam. Faucibus nisl tincidunt eget nullam non nisi. Sem et tortor consequat id. Nascetur ridiculus mus mauris vitae ultricies. Sem et tortor consequat id. Tincidunt tortor aliquam nulla facilisi cras fermentum. Id consectetur purus ut faucibus. Magna ac placerat vestibulum lectus mauris ultrices eros in. Pharetra diam sit amet nisl suscipit.\n",
    "\n",
    "Scelerisque fermentum dui faucibus in ornare quam. Facilisis magna etiam tempor orci eu. Mauris nunc congue nisi vitae suscipit tellus mauris a diam. Sit amet volutpat consequat mauris nunc congue nisi vitae suscipit. Risus sed vulputate odio ut enim blandit volutpat. Tristique nulla aliquet enim tortor at auctor urna nunc. Porta non pulvinar neque laoreet suspendisse interdum consectetur libero id. Ipsum a arcu cursus vitae congue. Arcu bibendum at varius vel pharetra vel turpis nunc. Felis eget velit aliquet sagittis id. Non tellus orci ac auctor augue. Blandit cursus risus at ultrices mi tempus imperdiet nulla. Vitae elementum curabitur vitae nunc sed velit. Scelerisque felis imperdiet proin fermentum leo vel orci porta non. Faucibus a pellentesque sit amet porttitor. Auctor augue mauris augue neque gravida in fermentum et sollicitudin. Nullam vehicula ipsum a arcu cursus vitae congue mauris. Id diam vel quam elementum pulvinar. Ut lectus arcu bibendum at varius vel pharetra. Sed euismod nisi porta lorem mollis aliquam ut.\n",
    "\n",
    "Sed velit dignissim sodales ut. Porta nibh venenatis cras sed. Euismod nisi porta lorem mollis aliquam. Enim lobortis scelerisque fermentum dui faucibus in ornare quam viverra. Non nisi est sit amet facilisis magna etiam. Nulla aliquet enim tortor at auctor urna nunc id. At auctor urna nunc id cursus metus aliquam eleifend mi. Vestibulum lectus mauris ultrices eros in. Eu feugiat pretium nibh ipsum consequat nisl vel. Etiam non quam lacus suspendisse. Commodo elit at imperdiet dui accumsan sit amet nulla. Odio euismod lacinia at quis risus sed vulputate. Amet nulla facilisi morbi tempus. Sit amet nisl suscipit adipiscing. Dictum varius duis at consectetur. Urna cursus eget nunc scelerisque viverra mauris in aliquam."
   ]
  },
  {
   "cell_type": "code",
   "execution_count": null,
   "metadata": {},
   "outputs": [],
   "source": [
    "import pandas as pd\n",
    "import matplotlib.pyplot as plt"
   ]
  },
  {
   "cell_type": "code",
   "execution_count": null,
   "metadata": {},
   "outputs": [],
   "source": [
    "link = \"https://en.wikipedia.org/wiki/Belgrade\"\n",
    "tables = pd.read_html(link)"
   ]
  },
  {
   "cell_type": "code",
   "execution_count": null,
   "metadata": {},
   "outputs": [],
   "source": [
    "data = tables[2]\n",
    "data = data.set_index('Municipality', drop=True)"
   ]
  },
  {
   "cell_type": "code",
   "execution_count": null,
   "metadata": {},
   "outputs": [],
   "source": [
    "data[\"Barajevo\":\"Zvezdara\"].plot(kind='pie', y='Population (2011)', figsize=(14, 10));\n",
    "plt.grid(zorder=0)\n",
    "plt.legend(loc='center left', bbox_to_anchor=(1.2, 0.5));"
   ]
  },
  {
   "cell_type": "code",
   "execution_count": null,
   "metadata": {},
   "outputs": [],
   "source": [
    "data[\"Barajevo\":\"Zvezdara\"].sort_values(by='Population density (per km2)').plot(\n",
    "    kind='barh', y='Population density (per km2)', figsize=(12, 8), grid=True);"
   ]
  },
  {
   "cell_type": "code",
   "execution_count": null,
   "metadata": {},
   "outputs": [],
   "source": []
  }
 ],
 "metadata": {
  "jupytext": {
   "formats": "ipynb,md"
  },
  "kernelspec": {
   "display_name": "u",
   "language": "python",
   "name": "u"
  },
  "language_info": {
   "codemirror_mode": {
    "name": "ipython",
    "version": 3
   },
   "file_extension": ".py",
   "mimetype": "text/x-python",
   "name": "python",
   "nbconvert_exporter": "python",
   "pygments_lexer": "ipython3",
   "version": "3.7.4"
  }
 },
 "nbformat": 4,
 "nbformat_minor": 2
}
