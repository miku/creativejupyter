{
 "cells": [
  {
   "cell_type": "markdown",
   "metadata": {},
   "source": [
    "# Accessing JSON Stat data"
   ]
  },
  {
   "cell_type": "code",
   "execution_count": 1,
   "metadata": {},
   "outputs": [],
   "source": [
    "from pyjstat import pyjstat\n",
    "\n",
    "# FutureWarning about sort_index\n",
    "import warnings\n",
    "warnings.filterwarnings('ignore')\n",
    "\n",
    "import pandas as pd\n",
    "pd.set_option('display.float_format', '{:.2f}'.format)\n",
    "\n",
    "import matplotlib.pyplot as plt"
   ]
  },
  {
   "cell_type": "code",
   "execution_count": 2,
   "metadata": {},
   "outputs": [],
   "source": [
    "# Input can be URL or a filelike object.\n",
    "\n",
    "with open(\"data/tps00002+ESTAT.json\") as handle:\n",
    "    dataset = pyjstat.Dataset.read(handle)\n",
    "\n",
    "df = dataset.write('dataframe')"
   ]
  },
  {
   "cell_type": "code",
   "execution_count": 3,
   "metadata": {},
   "outputs": [
    {
     "data": {
      "text/html": [
       "<div>\n",
       "<style scoped>\n",
       "    .dataframe tbody tr th:only-of-type {\n",
       "        vertical-align: middle;\n",
       "    }\n",
       "\n",
       "    .dataframe tbody tr th {\n",
       "        vertical-align: top;\n",
       "    }\n",
       "\n",
       "    .dataframe thead th {\n",
       "        text-align: right;\n",
       "    }\n",
       "</style>\n",
       "<table border=\"1\" class=\"dataframe\">\n",
       "  <thead>\n",
       "    <tr style=\"text-align: right;\">\n",
       "      <th></th>\n",
       "      <th>Time frequency</th>\n",
       "      <th>Type of projection</th>\n",
       "      <th>Unit of measure</th>\n",
       "      <th>Sex</th>\n",
       "      <th>Age class</th>\n",
       "      <th>Geopolitical entity (reporting)</th>\n",
       "      <th>Time</th>\n",
       "      <th>value</th>\n",
       "    </tr>\n",
       "  </thead>\n",
       "  <tbody>\n",
       "    <tr>\n",
       "      <td>0</td>\n",
       "      <td>Annual</td>\n",
       "      <td>Baseline projections</td>\n",
       "      <td>Person</td>\n",
       "      <td>Total</td>\n",
       "      <td>Total</td>\n",
       "      <td>European Union - 28 countries</td>\n",
       "      <td>2018</td>\n",
       "      <td>512379225</td>\n",
       "    </tr>\n",
       "    <tr>\n",
       "      <td>1</td>\n",
       "      <td>Annual</td>\n",
       "      <td>Baseline projections</td>\n",
       "      <td>Person</td>\n",
       "      <td>Total</td>\n",
       "      <td>Total</td>\n",
       "      <td>European Union - 28 countries</td>\n",
       "      <td>2020</td>\n",
       "      <td>514292912</td>\n",
       "    </tr>\n",
       "    <tr>\n",
       "      <td>2</td>\n",
       "      <td>Annual</td>\n",
       "      <td>Baseline projections</td>\n",
       "      <td>Person</td>\n",
       "      <td>Total</td>\n",
       "      <td>Total</td>\n",
       "      <td>European Union - 28 countries</td>\n",
       "      <td>2030</td>\n",
       "      <td>520712470</td>\n",
       "    </tr>\n",
       "    <tr>\n",
       "      <td>3</td>\n",
       "      <td>Annual</td>\n",
       "      <td>Baseline projections</td>\n",
       "      <td>Person</td>\n",
       "      <td>Total</td>\n",
       "      <td>Total</td>\n",
       "      <td>European Union - 28 countries</td>\n",
       "      <td>2040</td>\n",
       "      <td>524655224</td>\n",
       "    </tr>\n",
       "    <tr>\n",
       "      <td>4</td>\n",
       "      <td>Annual</td>\n",
       "      <td>Baseline projections</td>\n",
       "      <td>Person</td>\n",
       "      <td>Total</td>\n",
       "      <td>Total</td>\n",
       "      <td>European Union - 28 countries</td>\n",
       "      <td>2050</td>\n",
       "      <td>523708357</td>\n",
       "    </tr>\n",
       "    <tr>\n",
       "      <td>...</td>\n",
       "      <td>...</td>\n",
       "      <td>...</td>\n",
       "      <td>...</td>\n",
       "      <td>...</td>\n",
       "      <td>...</td>\n",
       "      <td>...</td>\n",
       "      <td>...</td>\n",
       "      <td>...</td>\n",
       "    </tr>\n",
       "    <tr>\n",
       "      <td>1165</td>\n",
       "      <td>Annual</td>\n",
       "      <td>Baseline projections</td>\n",
       "      <td>Person</td>\n",
       "      <td>Females</td>\n",
       "      <td>Total</td>\n",
       "      <td>Turkey</td>\n",
       "      <td>2060</td>\n",
       "      <td>None</td>\n",
       "    </tr>\n",
       "    <tr>\n",
       "      <td>1166</td>\n",
       "      <td>Annual</td>\n",
       "      <td>Baseline projections</td>\n",
       "      <td>Person</td>\n",
       "      <td>Females</td>\n",
       "      <td>Total</td>\n",
       "      <td>Turkey</td>\n",
       "      <td>2070</td>\n",
       "      <td>None</td>\n",
       "    </tr>\n",
       "    <tr>\n",
       "      <td>1167</td>\n",
       "      <td>Annual</td>\n",
       "      <td>Baseline projections</td>\n",
       "      <td>Person</td>\n",
       "      <td>Females</td>\n",
       "      <td>Total</td>\n",
       "      <td>Turkey</td>\n",
       "      <td>2080</td>\n",
       "      <td>None</td>\n",
       "    </tr>\n",
       "    <tr>\n",
       "      <td>1168</td>\n",
       "      <td>Annual</td>\n",
       "      <td>Baseline projections</td>\n",
       "      <td>Person</td>\n",
       "      <td>Females</td>\n",
       "      <td>Total</td>\n",
       "      <td>Turkey</td>\n",
       "      <td>2090</td>\n",
       "      <td>None</td>\n",
       "    </tr>\n",
       "    <tr>\n",
       "      <td>1169</td>\n",
       "      <td>Annual</td>\n",
       "      <td>Baseline projections</td>\n",
       "      <td>Person</td>\n",
       "      <td>Females</td>\n",
       "      <td>Total</td>\n",
       "      <td>Turkey</td>\n",
       "      <td>2100</td>\n",
       "      <td>None</td>\n",
       "    </tr>\n",
       "  </tbody>\n",
       "</table>\n",
       "<p>1170 rows × 8 columns</p>\n",
       "</div>"
      ],
      "text/plain": [
       "     Time frequency    Type of projection Unit of measure      Sex Age class  \\\n",
       "0            Annual  Baseline projections          Person    Total     Total   \n",
       "1            Annual  Baseline projections          Person    Total     Total   \n",
       "2            Annual  Baseline projections          Person    Total     Total   \n",
       "3            Annual  Baseline projections          Person    Total     Total   \n",
       "4            Annual  Baseline projections          Person    Total     Total   \n",
       "...             ...                   ...             ...      ...       ...   \n",
       "1165         Annual  Baseline projections          Person  Females     Total   \n",
       "1166         Annual  Baseline projections          Person  Females     Total   \n",
       "1167         Annual  Baseline projections          Person  Females     Total   \n",
       "1168         Annual  Baseline projections          Person  Females     Total   \n",
       "1169         Annual  Baseline projections          Person  Females     Total   \n",
       "\n",
       "     Geopolitical entity (reporting)  Time      value  \n",
       "0      European Union - 28 countries  2018  512379225  \n",
       "1      European Union - 28 countries  2020  514292912  \n",
       "2      European Union - 28 countries  2030  520712470  \n",
       "3      European Union - 28 countries  2040  524655224  \n",
       "4      European Union - 28 countries  2050  523708357  \n",
       "...                              ...   ...        ...  \n",
       "1165                          Turkey  2060       None  \n",
       "1166                          Turkey  2070       None  \n",
       "1167                          Turkey  2080       None  \n",
       "1168                          Turkey  2090       None  \n",
       "1169                          Turkey  2100       None  \n",
       "\n",
       "[1170 rows x 8 columns]"
      ]
     },
     "execution_count": 3,
     "metadata": {},
     "output_type": "execute_result"
    }
   ],
   "source": [
    "df"
   ]
  },
  {
   "cell_type": "code",
   "execution_count": 4,
   "metadata": {},
   "outputs": [
    {
     "data": {
      "text/plain": [
       "array(['European Union - 28 countries', 'Euro area (19 countries)',\n",
       "       'Belgium', 'Bulgaria', 'Czechia', 'Denmark',\n",
       "       'Germany (until 1990 former territory of the FRG)', 'Estonia',\n",
       "       'Ireland', 'Greece', 'Spain', 'France', 'Croatia', 'Italy',\n",
       "       'Cyprus', 'Latvia', 'Lithuania', 'Luxembourg', 'Hungary', 'Malta',\n",
       "       'Netherlands', 'Austria', 'Poland', 'Portugal', 'Romania',\n",
       "       'Slovenia', 'Slovakia', 'Finland', 'Sweden', 'United Kingdom',\n",
       "       'Iceland', 'Liechtenstein', 'Norway', 'Switzerland', 'Montenegro',\n",
       "       'North Macedonia', 'Albania', 'Serbia', 'Turkey'], dtype=object)"
      ]
     },
     "execution_count": 4,
     "metadata": {},
     "output_type": "execute_result"
    }
   ],
   "source": [
    "df[\"Geopolitical entity (reporting)\"].unique()"
   ]
  },
  {
   "cell_type": "code",
   "execution_count": 5,
   "metadata": {},
   "outputs": [],
   "source": [
    "df[\"value\"] = df[\"value\"].dropna().astype(int)"
   ]
  },
  {
   "cell_type": "code",
   "execution_count": 6,
   "metadata": {},
   "outputs": [],
   "source": [
    "def plot_country(name=\"Germany (until 1990 former territory of the FRG)\"):\n",
    "    ax = df[\n",
    "        (df[\"Sex\"] == \"Total\") &\n",
    "        (df[\"Geopolitical entity (reporting)\"] == name)\n",
    "    ].plot(x=\"Time\", y=\"value\", grid=True, figsize=(12, 8));\n",
    "    plt.ticklabel_format(style='plain', axis='y');"
   ]
  },
  {
   "cell_type": "code",
   "execution_count": 8,
   "metadata": {},
   "outputs": [
    {
     "data": {
      "image/png": "[encoded data removed]",
      "text/plain": [
       "<Figure size 864x576 with 1 Axes>"
      ]
     },
     "metadata": {
      "needs_background": "light"
     },
     "output_type": "display_data"
    }
   ],
   "source": [
    "plot_country(name=\"Bulgaria\")"
   ]
  },
  {
   "cell_type": "code",
   "execution_count": null,
   "metadata": {},
   "outputs": [],
   "source": []
  }
 ],
 "metadata": {
  "kernelspec": {
   "display_name": "u",
   "language": "python",
   "name": "u"
  },
  "language_info": {
   "codemirror_mode": {
    "name": "ipython",
    "version": 3
   },
   "file_extension": ".py",
   "mimetype": "text/x-python",
   "name": "python",
   "nbconvert_exporter": "python",
   "pygments_lexer": "ipython3",
   "version": "3.7.4"
  }
 },
 "nbformat": 4,
 "nbformat_minor": 2
}
